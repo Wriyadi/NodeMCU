{
  "cells": [
    {
      "cell_type": "code",
      "execution_count": null,
      "metadata": {
        "colab": {
          "base_uri": "https://localhost:8080/"
        },
        "id": "y9y5-Z_lH1_L",
        "outputId": "c2cb6908-8b7c-457f-c973-ea4fc353802b"
      },
      "outputs": [],
      "source": [
        "#importing Libraries\n",
        "import cv2\n",
        "from matplotlib import pyplot as plt\n",
        "import numpy as np\n",
        "!sudo apt install tesseract-ocr\n",
        "!pip install pytesseract"
      ]
    },
    {
      "cell_type": "code",
      "execution_count": null,
      "metadata": {
        "colab": {
          "base_uri": "https://localhost:8080/"
        },
        "id": "S4oip7hfKB_v",
        "outputId": "9ceeac1c-7148-4109-d263-0737c76cac77"
      },
      "outputs": [],
      "source": [
        "#set path\n",
        "\n",
        "from google.colab import drive\n",
        "drive.mount('/content/drive', force_remount=True)\n",
        "!ls \"/content/drive/MyDrive/Colab Notebooks/License Plate\"\n"
      ]
    },
    {
      "cell_type": "code",
      "execution_count": null,
      "metadata": {
        "colab": {
          "base_uri": "https://localhost:8080/"
        },
        "id": "GBNbySspKfPJ",
        "outputId": "5a3d3d48-e2c3-4e07-b9dc-fa7da20631b6"
      },
      "outputs": [],
      "source": [
        "#import dependencies\n",
        "%matplotlib inline\n",
        "import os\n",
        "data= os.listdir('../content/drive/MyDrive/Colab Notebooks/License Plate')\n",
        "data"
      ]
    },
    {
      "cell_type": "code",
      "execution_count": 4,
      "metadata": {
        "id": "624Jg4xvKi6K"
      },
      "outputs": [],
      "source": [
        "lic_data = cv2.CascadeClassifier('../content/drive/MyDrive/Colab Notebooks/License Plate/haarcascade_russian_plate_number.xml')"
      ]
    },
    {
      "cell_type": "code",
      "execution_count": 5,
      "metadata": {
        "id": "GmjgOW5WKuYo"
      },
      "outputs": [],
      "source": [
        "def plt_show(image, title=\"\", gray = False, size =(100,100)):\n",
        "    temp = image\n",
        "    if gray == False:\n",
        "      temp = cv2.cvtColor(temp, cv2.COLOR_BGR2RGB)\n",
        "    plt.title(title)\n",
        "    plt.imshow(temp, cmap='gray')\n",
        "    plt.show()"
      ]
    },
    {
      "cell_type": "code",
      "execution_count": 6,
      "metadata": {
        "id": "MFduj6RvKzPO"
      },
      "outputs": [],
      "source": [
        "def detect_number(img):\n",
        "    temp = img\n",
        "    gray = cv2.cvtColor(temp, cv2.COLOR_BGR2GRAY)\n",
        "    number = lic_data.detectMultiScale(img,1.2)\n",
        "    print(\"number plate detected:\"+str(len(number)))\n",
        "    for numbers in number:\n",
        "        (x,y,w,h) = numbers\n",
        "        roi_gray = gray[y:y+h, x:x+w]\n",
        "        roi_color = img[y:y+h, x:x+h]\n",
        "        cv2.rectangle(temp, (x,y), (x+w,y+h), (0,255,0), 3)\n",
        "        \n",
        "    plt_show(temp)"
      ]
    },
    {
      "cell_type": "code",
      "execution_count": null,
      "metadata": {
        "colab": {
          "base_uri": "https://localhost:8080/",
          "height": 690
        },
        "id": "ngMJM-7lK7gp",
        "outputId": "901b4c87-c764-4b56-d21c-354085b1e825"
      },
      "outputs": [],
      "source": [
        "#Take input of car image with number plate\n",
        "img = cv2.imread(\"/content/drive/MyDrive/Colab Notebooks/License Plate/Car1.jpg\")\n",
        "plt_show(img)\n",
        "detect_number(img)"
      ]
    },
    {
      "cell_type": "code",
      "execution_count": null,
      "metadata": {
        "colab": {
          "base_uri": "https://localhost:8080/",
          "height": 362
        },
        "id": "WsUlCD38MfNG",
        "outputId": "7a3103d7-3cc3-475e-ff82-5fc9f10bd453"
      },
      "outputs": [],
      "source": [
        "plt.subplot(1,1,1), plt.imshow(img)"
      ]
    },
    {
      "cell_type": "code",
      "execution_count": null,
      "metadata": {
        "colab": {
          "base_uri": "https://localhost:8080/",
          "height": 669
        },
        "id": "MKr0r4T1NIqe",
        "outputId": "3a160534-018b-4bb0-f060-76ba56689eb4"
      },
      "outputs": [],
      "source": [
        "from google.colab.patches import cv2_imshow\n",
        "gray = cv2.cvtColor(img, cv2.COLOR_BGR2GRAY)\n",
        "cv2_imshow(gray)"
      ]
    },
    {
      "cell_type": "code",
      "execution_count": null,
      "metadata": {
        "colab": {
          "base_uri": "https://localhost:8080/",
          "height": 338
        },
        "id": "baUWI8JSNhai",
        "outputId": "8a7319ee-b282-494a-e797-23b45e123ca3"
      },
      "outputs": [],
      "source": [
        "import numpy as np\n",
        "\n",
        "\n",
        "kernel = np.ones((5,5),np.uint8)\n",
        "erosion = cv2.erode(img,kernel,iterations = 1)\n",
        "\n",
        "plt.subplot(1,1,1), plt.imshow(erosion)\n",
        "plt.title('Morphological Transformation/Erosion'), plt.xticks([]), plt.yticks([])\n",
        "plt.show()"
      ]
    },
    {
      "cell_type": "code",
      "execution_count": null,
      "metadata": {
        "colab": {
          "base_uri": "https://localhost:8080/",
          "height": 1000
        },
        "id": "x93HljJqN52A",
        "outputId": "87a66565-6716-430d-bbbc-5a11d2830acf"
      },
      "outputs": [],
      "source": [
        "import imutils\n",
        "image = img\n",
        "ratio = image.shape[0] / 500.0\n",
        "orig = image.copy()\n",
        "image = imutils.resize(image, height = 500)\n",
        " \n",
        "# convert the image to grayscale, blur it, and find edges\n",
        "# in the image\n",
        "gray = cv2.cvtColor(image, cv2.COLOR_BGR2GRAY)\n",
        "gray = cv2.GaussianBlur(gray, (5, 5), 0)\n",
        "edged = cv2.Canny(gray, 75, 200)\n",
        " \n",
        "# show the original image and the edge detected image\n",
        "print(\"STEP 1: Edge Detection\")\n",
        "cv2_imshow(image)\n",
        "cv2_imshow(edged)"
      ]
    },
    {
      "cell_type": "code",
      "execution_count": null,
      "metadata": {
        "colab": {
          "base_uri": "https://localhost:8080/"
        },
        "id": "Kv3iACpaU0ic",
        "outputId": "630db523-b53c-4732-ece7-3fafe9cea90b"
      },
      "outputs": [],
      "source": [
        "! pip install Pillow\n",
        "! pip install pytesseract"
      ]
    },
    {
      "cell_type": "code",
      "execution_count": 13,
      "metadata": {
        "id": "6N1rt-E_OCo0"
      },
      "outputs": [],
      "source": [
        "img = cv2.resize(img, (620,480) )\n",
        "gray = cv2.cvtColor(img, cv2.COLOR_BGR2GRAY) #convert to grey scale"
      ]
    },
    {
      "cell_type": "code",
      "execution_count": 14,
      "metadata": {
        "id": "Jv01csWxa_qj"
      },
      "outputs": [],
      "source": [
        "gray = cv2.bilateralFilter(gray, 13, 15, 15)"
      ]
    },
    {
      "cell_type": "code",
      "execution_count": null,
      "metadata": {
        "colab": {
          "base_uri": "https://localhost:8080/",
          "height": 497
        },
        "id": "mbjhPZhybC-2",
        "outputId": "0baf821c-b52f-4979-f925-072222f3175c"
      },
      "outputs": [],
      "source": [
        "edged = cv2.Canny(gray, 30, 200) #Perform Edge detection\n",
        "cv2_imshow(edged)"
      ]
    },
    {
      "cell_type": "code",
      "execution_count": 16,
      "metadata": {
        "id": "gpEiOSsRbGTT"
      },
      "outputs": [],
      "source": [
        "contours=cv2.findContours(edged.copy(),cv2.RETR_TREE,\n",
        "                                            cv2.CHAIN_APPROX_SIMPLE)\n",
        "contours = imutils.grab_contours(contours)\n",
        "contours = sorted(contours,key=cv2.contourArea, reverse = True)[:30]\n",
        "screenCnt = None"
      ]
    },
    {
      "cell_type": "code",
      "execution_count": 17,
      "metadata": {
        "id": "nsBl5zjlbIf9"
      },
      "outputs": [],
      "source": [
        "for c in contours:\n",
        "    # approximate the contour\n",
        "    peri = cv2.arcLength(c, True)\n",
        "    approx = cv2.approxPolyDP(c, 0.018 * peri, True)\n",
        "    # if our approximated contour has four points, then\n",
        "    # we can assume that we have found our screen\n",
        "    if len(approx) == 4:\n",
        "        screenCnt = approx\n",
        "        break"
      ]
    },
    {
      "cell_type": "code",
      "execution_count": 18,
      "metadata": {
        "id": "gzco0wJRbu_y"
      },
      "outputs": [],
      "source": [
        "if screenCnt is None:\n",
        "    detected = 0\n",
        "    print (\"No contour detected\")\n",
        "else:\n",
        "     detected = 1\n",
        "\n",
        "if detected == 1:\n",
        "    cv2.drawContours(img, [screenCnt], -1, (0, 0, 255), 3)"
      ]
    },
    {
      "cell_type": "code",
      "execution_count": null,
      "metadata": {
        "colab": {
          "base_uri": "https://localhost:8080/",
          "height": 497
        },
        "id": "NfggdSJ_b69D",
        "outputId": "4fb35347-975f-4af8-f742-17e8794d5bef"
      },
      "outputs": [],
      "source": [
        "# Masking the part other than the number plate\n",
        "mask = np.zeros(gray.shape,np.uint8)\n",
        "new_image = cv2.drawContours(mask,[screenCnt],0,255,-1,)\n",
        "new_image = cv2.bitwise_and(img,img,mask=mask)\n",
        "cv2_imshow(new_image)"
      ]
    },
    {
      "cell_type": "code",
      "execution_count": 20,
      "metadata": {
        "id": "9r8QiLE1cCey"
      },
      "outputs": [],
      "source": [
        "# Now crop\n",
        "(x, y) = np.where(mask == 255)\n",
        "(topx, topy) = (np.min(x), np.min(y))\n",
        "(bottomx, bottomy) = (np.max(x), np.max(y))\n",
        "Cropped = gray[topx:bottomx+1, topy:bottomy+1]"
      ]
    },
    {
      "cell_type": "code",
      "execution_count": null,
      "metadata": {
        "colab": {
          "base_uri": "https://localhost:8080/",
          "height": 188
        },
        "id": "jchH_I5ue4zN",
        "outputId": "7b00a9d4-66c0-4ddb-af26-76418744dcd1"
      },
      "outputs": [],
      "source": [
        "plt.imshow(Cropped, cmap = 'gray');"
      ]
    },
    {
      "cell_type": "code",
      "execution_count": null,
      "metadata": {
        "colab": {
          "base_uri": "https://localhost:8080/"
        },
        "id": "cd0Xv8LhcFSs",
        "outputId": "228a7cb4-d899-410b-b26b-c903bab3b6ee"
      },
      "outputs": [],
      "source": [
        "import pytesseract\n",
        "from PIL import ImageEnhance, ImageFilter, Image\n",
        "\n",
        "#Read the number plate\n",
        "text = pytesseract.image_to_string(Cropped, config='--psm 11')\n",
        "print(\"Detected license plate Number is:\",text)"
      ]
    }
  ],
  "metadata": {
    "colab": {
      "provenance": []
    },
    "kernelspec": {
      "display_name": "Python 3",
      "name": "python3"
    }
  },
  "nbformat": 4,
  "nbformat_minor": 0
}
