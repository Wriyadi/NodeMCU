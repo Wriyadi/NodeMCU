#importing Libraries
import cv2
from matplotlib import pyplot as plt
import numpy as np
!sudo apt install tesseract-ocr
!pip install pytesseract

from google.colab import drive
drive.mount('/content/drive', force_remount=True)
!ls "/content/drive/MyDrive/Colab Notebooks/License Plate"

